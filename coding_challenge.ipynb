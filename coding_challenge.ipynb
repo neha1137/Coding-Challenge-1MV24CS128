{
  "nbformat": 4,
  "nbformat_minor": 0,
  "metadata": {
    "colab": {
      "provenance": [],
      "authorship_tag": "ABX9TyOCs8hZcNPvJ2gTbkqzFBoc",
      "include_colab_link": true
    },
    "kernelspec": {
      "name": "python3",
      "display_name": "Python 3"
    },
    "language_info": {
      "name": "python"
    }
  },
  "cells": [
    {
      "cell_type": "markdown",
      "metadata": {
        "id": "view-in-github",
        "colab_type": "text"
      },
      "source": [
        "<a href=\"https://colab.research.google.com/github/neha1137/Coding-Challenge-1MV24CS128/blob/main/coding_challenge.ipynb\" target=\"_parent\"><img src=\"https://colab.research.google.com/assets/colab-badge.svg\" alt=\"Open In Colab\"/></a>"
      ]
    },
    {
      "cell_type": "code",
      "execution_count": 10,
      "metadata": {
        "colab": {
          "base_uri": "https://localhost:8080/"
        },
        "id": "385R3RyNur4E",
        "outputId": "e9e23af5-a4b4-4df2-b873-5e3b115311be"
      },
      "outputs": [
        {
          "output_type": "stream",
          "name": "stdout",
          "text": [
            "Enter the number of terms you need series upto : 6\n",
            "Series:\n",
            "0 1 1 2 3 5 "
          ]
        }
      ],
      "source": [
        "#Fibonacco series\n",
        "n=int(input(\"Enter the number of terms you need series upto : \"))\n",
        "if(n<0):\n",
        "  print(\"Invalid input\")\n",
        "elif(n==0):\n",
        "  print(\"Series : 0\")\n",
        "elif(n==1):\n",
        "  print(\"Series : 0 1\")\n",
        "elif(n>1):\n",
        "  count=2\n",
        "  a=0\n",
        "  b=1\n",
        "  print(\"Series:\")\n",
        "  print(a,b,end=\" \")\n",
        "  while(count<n):\n",
        "    c=a+b\n",
        "    a=b\n",
        "    b=c\n",
        "    count+=1\n",
        "    print(c,end=\" \")"
      ]
    },
    {
      "cell_type": "code",
      "source": [
        "#Prime numbers till n\n",
        "\n",
        "def isPrime(n):\n",
        "    if(n==1 or n==0):\n",
        "      return 0\n",
        "    for i in range(2,n):\n",
        "        if(n%i==0):\n",
        "            return 0\n",
        "    return 1\n",
        "\n",
        "n=int(input(\"Enter the numbers  : \"))\n",
        "for i in range(1,n+1):\n",
        "  #check if current number is prime\n",
        "    if(isPrime(i)):\n",
        "        print(i,end=\" \")\n",
        "\n",
        ""
      ],
      "metadata": {
        "colab": {
          "base_uri": "https://localhost:8080/"
        },
        "id": "PmtF_PZ6yQOM",
        "outputId": "2170a185-71ad-4809-ce0f-c1fa9da0e43d"
      },
      "execution_count": 33,
      "outputs": [
        {
          "output_type": "stream",
          "name": "stdout",
          "text": [
            "Enter the numbers  : 15\n",
            "2 3 5 7 11 13 "
          ]
        }
      ]
    },
    {
      "cell_type": "code",
      "source": [
        "#Vowel and Consonant Sounds\n",
        "char=input('Enter the alphabet : ')\n",
        "if(char=='a' or char=='e' or char=='i' or char=='o' or char=='u' or char=='A' or char=='E' or char=='I' or char=='O' or char=='U'):\n",
        "  print(\"Vowel\")\n",
        "else:\n",
        "  print(\"Consonant\")"
      ],
      "metadata": {
        "colab": {
          "base_uri": "https://localhost:8080/"
        },
        "id": "OI-1OP-j78p3",
        "outputId": "6e25b63c-1ed6-4af3-d85a-5f1bd5e2adb8"
      },
      "execution_count": 36,
      "outputs": [
        {
          "output_type": "stream",
          "name": "stdout",
          "text": [
            "Enter the alphabet : A\n",
            "Vowel\n"
          ]
        }
      ]
    },
    {
      "cell_type": "code",
      "source": [
        "#Center-Aligned Star Triangle\n",
        "n=int(input(\"Enter the number of rows : \"))\n",
        "for i in range(1,n):\n",
        "  for j in range(1,n-i+1):\n",
        "    print(\"  \", end=\"\")\n",
        "  for j in range(1,2*i):\n",
        "    print(\"* \", end=\"\")\n",
        "  print()"
      ],
      "metadata": {
        "colab": {
          "base_uri": "https://localhost:8080/"
        },
        "id": "gWHvE_hp8jVP",
        "outputId": "a7858ab1-5904-4f58-9196-60d213b45536"
      },
      "execution_count": 37,
      "outputs": [
        {
          "output_type": "stream",
          "name": "stdout",
          "text": [
            "Enter the number of rows : 5\n",
            "        * \n",
            "      * * * \n",
            "    * * * * * \n",
            "  * * * * * * * \n"
          ]
        }
      ]
    }
  ]
}